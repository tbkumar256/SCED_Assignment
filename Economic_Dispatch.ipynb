{
 "cells": [
  {
   "cell_type": "markdown",
   "id": "49e418b5-acfe-43c4-ba4a-4ae4c34d7d25",
   "metadata": {},
   "source": [
    "## Step 1 Import Modules"
   ]
  },
  {
   "cell_type": "code",
   "execution_count": 1,
   "id": "1f67fbd0-88d5-44d5-86c7-1bb8576fd50e",
   "metadata": {},
   "outputs": [],
   "source": [
    "from ed_input import read_generator_data, read_demand_data, read_region_data\n",
    "from ed_calculation import perform_dispatch\n",
    "from ed_output import save_generation_schedule, save_regional_flows, save_demand_analysis\n",
    "import os"
   ]
  },
  {
   "cell_type": "markdown",
   "id": "d016bf90-75bd-460b-8e8c-d7f19fed8bf0",
   "metadata": {},
   "source": [
    "## Step 2 Read Input Data"
   ]
  },
  {
   "cell_type": "code",
   "execution_count": 2,
   "id": "c8342802-1c39-4d23-b372-8ce9555f8f1e",
   "metadata": {},
   "outputs": [
    {
     "data": {
      "text/html": [
       "<div>\n",
       "<style scoped>\n",
       "    .dataframe tbody tr th:only-of-type {\n",
       "        vertical-align: middle;\n",
       "    }\n",
       "\n",
       "    .dataframe tbody tr th {\n",
       "        vertical-align: top;\n",
       "    }\n",
       "\n",
       "    .dataframe thead th {\n",
       "        text-align: right;\n",
       "    }\n",
       "</style>\n",
       "<table border=\"1\" class=\"dataframe\">\n",
       "  <thead>\n",
       "    <tr style=\"text-align: right;\">\n",
       "      <th></th>\n",
       "      <th>Generator</th>\n",
       "      <th>Max Capacity</th>\n",
       "      <th>Region</th>\n",
       "      <th>Price</th>\n",
       "    </tr>\n",
       "  </thead>\n",
       "  <tbody>\n",
       "    <tr>\n",
       "      <th>0</th>\n",
       "      <td>Gen1</td>\n",
       "      <td>150</td>\n",
       "      <td>North</td>\n",
       "      <td>20</td>\n",
       "    </tr>\n",
       "    <tr>\n",
       "      <th>1</th>\n",
       "      <td>Gen2</td>\n",
       "      <td>100</td>\n",
       "      <td>North</td>\n",
       "      <td>25</td>\n",
       "    </tr>\n",
       "    <tr>\n",
       "      <th>2</th>\n",
       "      <td>Gen3</td>\n",
       "      <td>250</td>\n",
       "      <td>South</td>\n",
       "      <td>30</td>\n",
       "    </tr>\n",
       "    <tr>\n",
       "      <th>3</th>\n",
       "      <td>Gen4</td>\n",
       "      <td>200</td>\n",
       "      <td>South</td>\n",
       "      <td>35</td>\n",
       "    </tr>\n",
       "    <tr>\n",
       "      <th>4</th>\n",
       "      <td>Gen5</td>\n",
       "      <td>150</td>\n",
       "      <td>East</td>\n",
       "      <td>40</td>\n",
       "    </tr>\n",
       "  </tbody>\n",
       "</table>\n",
       "</div>"
      ],
      "text/plain": [
       "  Generator  Max Capacity Region  Price\n",
       "0      Gen1           150  North     20\n",
       "1      Gen2           100  North     25\n",
       "2      Gen3           250  South     30\n",
       "3      Gen4           200  South     35\n",
       "4      Gen5           150   East     40"
      ]
     },
     "metadata": {},
     "output_type": "display_data"
    },
    {
     "data": {
      "text/html": [
       "<div>\n",
       "<style scoped>\n",
       "    .dataframe tbody tr th:only-of-type {\n",
       "        vertical-align: middle;\n",
       "    }\n",
       "\n",
       "    .dataframe tbody tr th {\n",
       "        vertical-align: top;\n",
       "    }\n",
       "\n",
       "    .dataframe thead th {\n",
       "        text-align: right;\n",
       "    }\n",
       "</style>\n",
       "<table border=\"1\" class=\"dataframe\">\n",
       "  <thead>\n",
       "    <tr style=\"text-align: right;\">\n",
       "      <th></th>\n",
       "      <th>North</th>\n",
       "      <th>South</th>\n",
       "      <th>East</th>\n",
       "    </tr>\n",
       "    <tr>\n",
       "      <th>Hour</th>\n",
       "      <th></th>\n",
       "      <th></th>\n",
       "      <th></th>\n",
       "    </tr>\n",
       "  </thead>\n",
       "  <tbody>\n",
       "    <tr>\n",
       "      <th>1</th>\n",
       "      <td>250</td>\n",
       "      <td>400</td>\n",
       "      <td>150</td>\n",
       "    </tr>\n",
       "    <tr>\n",
       "      <th>2</th>\n",
       "      <td>280</td>\n",
       "      <td>420</td>\n",
       "      <td>180</td>\n",
       "    </tr>\n",
       "    <tr>\n",
       "      <th>3</th>\n",
       "      <td>300</td>\n",
       "      <td>450</td>\n",
       "      <td>200</td>\n",
       "    </tr>\n",
       "    <tr>\n",
       "      <th>4</th>\n",
       "      <td>320</td>\n",
       "      <td>470</td>\n",
       "      <td>220</td>\n",
       "    </tr>\n",
       "    <tr>\n",
       "      <th>5</th>\n",
       "      <td>350</td>\n",
       "      <td>500</td>\n",
       "      <td>250</td>\n",
       "    </tr>\n",
       "  </tbody>\n",
       "</table>\n",
       "</div>"
      ],
      "text/plain": [
       "      North  South  East\n",
       "Hour                    \n",
       "1       250    400   150\n",
       "2       280    420   180\n",
       "3       300    450   200\n",
       "4       320    470   220\n",
       "5       350    500   250"
      ]
     },
     "metadata": {},
     "output_type": "display_data"
    },
    {
     "data": {
      "text/html": [
       "<div>\n",
       "<style scoped>\n",
       "    .dataframe tbody tr th:only-of-type {\n",
       "        vertical-align: middle;\n",
       "    }\n",
       "\n",
       "    .dataframe tbody tr th {\n",
       "        vertical-align: top;\n",
       "    }\n",
       "\n",
       "    .dataframe thead th {\n",
       "        text-align: right;\n",
       "    }\n",
       "</style>\n",
       "<table border=\"1\" class=\"dataframe\">\n",
       "  <thead>\n",
       "    <tr style=\"text-align: right;\">\n",
       "      <th></th>\n",
       "      <th>Region</th>\n",
       "      <th>Import Limit</th>\n",
       "      <th>Export Limit</th>\n",
       "    </tr>\n",
       "  </thead>\n",
       "  <tbody>\n",
       "    <tr>\n",
       "      <th>0</th>\n",
       "      <td>North</td>\n",
       "      <td>50</td>\n",
       "      <td>100</td>\n",
       "    </tr>\n",
       "    <tr>\n",
       "      <th>1</th>\n",
       "      <td>South</td>\n",
       "      <td>100</td>\n",
       "      <td>150</td>\n",
       "    </tr>\n",
       "    <tr>\n",
       "      <th>2</th>\n",
       "      <td>East</td>\n",
       "      <td>50</td>\n",
       "      <td>80</td>\n",
       "    </tr>\n",
       "  </tbody>\n",
       "</table>\n",
       "</div>"
      ],
      "text/plain": [
       "  Region  Import Limit  Export Limit\n",
       "0  North            50           100\n",
       "1  South           100           150\n",
       "2   East            50            80"
      ]
     },
     "metadata": {},
     "output_type": "display_data"
    }
   ],
   "source": [
    "try:\n",
    "    gen_df = read_generator_data()\n",
    "    demand_df = read_demand_data()\n",
    "    region_df = read_region_data()\n",
    "    display(gen_df.head(), demand_df.head(), region_df)\n",
    "except Exception as e:\n",
    "    print(f\"Input error: {str(e)}\")"
   ]
  },
  {
   "cell_type": "markdown",
   "id": "24d41afe-0168-4b00-bf26-775dd718b806",
   "metadata": {},
   "source": [
    "## Step 3 Execution of economic dispatch"
   ]
  },
  {
   "cell_type": "code",
   "execution_count": 3,
   "id": "24de669c-9c01-4645-b351-a5fb07d7ac58",
   "metadata": {
    "scrolled": true
   },
   "outputs": [
    {
     "data": {
      "text/html": [
       "<div>\n",
       "<style scoped>\n",
       "    .dataframe tbody tr th:only-of-type {\n",
       "        vertical-align: middle;\n",
       "    }\n",
       "\n",
       "    .dataframe tbody tr th {\n",
       "        vertical-align: top;\n",
       "    }\n",
       "\n",
       "    .dataframe thead th {\n",
       "        text-align: right;\n",
       "    }\n",
       "</style>\n",
       "<table border=\"1\" class=\"dataframe\">\n",
       "  <thead>\n",
       "    <tr style=\"text-align: right;\">\n",
       "      <th></th>\n",
       "      <th>Gen1</th>\n",
       "      <th>Gen2</th>\n",
       "      <th>Gen3</th>\n",
       "      <th>Gen4</th>\n",
       "      <th>Gen5</th>\n",
       "      <th>Gen6</th>\n",
       "    </tr>\n",
       "  </thead>\n",
       "  <tbody>\n",
       "    <tr>\n",
       "      <th>1</th>\n",
       "      <td>150</td>\n",
       "      <td>100</td>\n",
       "      <td>250</td>\n",
       "      <td>150</td>\n",
       "      <td>150</td>\n",
       "      <td>0</td>\n",
       "    </tr>\n",
       "    <tr>\n",
       "      <th>2</th>\n",
       "      <td>150</td>\n",
       "      <td>100</td>\n",
       "      <td>250</td>\n",
       "      <td>200</td>\n",
       "      <td>150</td>\n",
       "      <td>30</td>\n",
       "    </tr>\n",
       "    <tr>\n",
       "      <th>3</th>\n",
       "      <td>150</td>\n",
       "      <td>100</td>\n",
       "      <td>250</td>\n",
       "      <td>200</td>\n",
       "      <td>150</td>\n",
       "      <td>100</td>\n",
       "    </tr>\n",
       "    <tr>\n",
       "      <th>4</th>\n",
       "      <td>150</td>\n",
       "      <td>100</td>\n",
       "      <td>250</td>\n",
       "      <td>200</td>\n",
       "      <td>150</td>\n",
       "      <td>140</td>\n",
       "    </tr>\n",
       "    <tr>\n",
       "      <th>5</th>\n",
       "      <td>150</td>\n",
       "      <td>100</td>\n",
       "      <td>250</td>\n",
       "      <td>200</td>\n",
       "      <td>150</td>\n",
       "      <td>180</td>\n",
       "    </tr>\n",
       "  </tbody>\n",
       "</table>\n",
       "</div>"
      ],
      "text/plain": [
       "   Gen1  Gen2  Gen3  Gen4  Gen5  Gen6\n",
       "1   150   100   250   150   150     0\n",
       "2   150   100   250   200   150    30\n",
       "3   150   100   250   200   150   100\n",
       "4   150   100   250   200   150   140\n",
       "5   150   100   250   200   150   180"
      ]
     },
     "metadata": {},
     "output_type": "display_data"
    },
    {
     "data": {
      "text/html": [
       "<div>\n",
       "<style scoped>\n",
       "    .dataframe tbody tr th:only-of-type {\n",
       "        vertical-align: middle;\n",
       "    }\n",
       "\n",
       "    .dataframe tbody tr th {\n",
       "        vertical-align: top;\n",
       "    }\n",
       "\n",
       "    .dataframe thead th {\n",
       "        text-align: right;\n",
       "    }\n",
       "</style>\n",
       "<table border=\"1\" class=\"dataframe\">\n",
       "  <thead>\n",
       "    <tr style=\"text-align: right;\">\n",
       "      <th></th>\n",
       "      <th>North</th>\n",
       "      <th>South</th>\n",
       "      <th>East</th>\n",
       "    </tr>\n",
       "  </thead>\n",
       "  <tbody>\n",
       "    <tr>\n",
       "      <th>1</th>\n",
       "      <td>0</td>\n",
       "      <td>0</td>\n",
       "      <td>0</td>\n",
       "    </tr>\n",
       "    <tr>\n",
       "      <th>2</th>\n",
       "      <td>30</td>\n",
       "      <td>-30</td>\n",
       "      <td>0</td>\n",
       "    </tr>\n",
       "    <tr>\n",
       "      <th>3</th>\n",
       "      <td>50</td>\n",
       "      <td>0</td>\n",
       "      <td>-50</td>\n",
       "    </tr>\n",
       "    <tr>\n",
       "      <th>4</th>\n",
       "      <td>50</td>\n",
       "      <td>20</td>\n",
       "      <td>-70</td>\n",
       "    </tr>\n",
       "    <tr>\n",
       "      <th>5</th>\n",
       "      <td>30</td>\n",
       "      <td>50</td>\n",
       "      <td>-80</td>\n",
       "    </tr>\n",
       "  </tbody>\n",
       "</table>\n",
       "</div>"
      ],
      "text/plain": [
       "   North  South  East\n",
       "1      0      0     0\n",
       "2     30    -30     0\n",
       "3     50      0   -50\n",
       "4     50     20   -70\n",
       "5     30     50   -80"
      ]
     },
     "metadata": {},
     "output_type": "display_data"
    }
   ],
   "source": [
    "try:\n",
    "    results = perform_dispatch(gen_df, demand_df, region_df)\n",
    "    gen_schedule, region_flows, met_demand, curtailment, reasons = results\n",
    "    display(gen_schedule.head(), region_flows.head())\n",
    "except Exception as e:\n",
    "    print(f\"Calculation error: {str(e)}\")"
   ]
  },
  {
   "cell_type": "markdown",
   "id": "c3fe66e9-4efc-4e0d-8c52-9d8434467331",
   "metadata": {},
   "source": [
    "## Step 4: Outputs & Files"
   ]
  },
  {
   "cell_type": "code",
   "execution_count": 4,
   "id": "047cc92c-2e21-4a98-8ae7-a194e16387d2",
   "metadata": {},
   "outputs": [
    {
     "name": "stdout",
     "output_type": "stream",
     "text": [
      "Output files saved successfully\n"
     ]
    }
   ],
   "source": [
    "os.makedirs('outputs', exist_ok=True)\n",
    "try:\n",
    "    save_generation_schedule('outputs/Generation_Schedule.xlsx', gen_schedule, gen_df)\n",
    "    save_regional_flows('outputs/Regional_Flows.xlsx', region_flows)\n",
    "    save_demand_analysis('outputs/Demand_Analysis.xlsx', met_demand, curtailment, reasons)\n",
    "    print(\"Output files saved successfully\")\n",
    "except Exception as e:\n",
    "    print(f\"Output error: {str(e)}\")"
   ]
  },
  {
   "cell_type": "code",
   "execution_count": 5,
   "id": "bbce4218-4d9e-46d0-b3b0-3c91d883554c",
   "metadata": {},
   "outputs": [
    {
     "name": "stdout",
     "output_type": "stream",
     "text": [
      "Generation:\n"
     ]
    },
    {
     "data": {
      "text/plain": [
       "Gen1    150\n",
       "Gen2    100\n",
       "Gen3    250\n",
       "Gen4    200\n",
       "Gen5    150\n",
       "Gen6     30\n",
       "Name: 2, dtype: int64"
      ]
     },
     "metadata": {},
     "output_type": "display_data"
    },
    {
     "name": "stdout",
     "output_type": "stream",
     "text": [
      "\n",
      "Regional Flows:\n"
     ]
    },
    {
     "data": {
      "text/plain": [
       "North    30\n",
       "South   -30\n",
       "East      0\n",
       "Name: 2, dtype: int64"
      ]
     },
     "metadata": {},
     "output_type": "display_data"
    },
    {
     "name": "stdout",
     "output_type": "stream",
     "text": [
      "\n",
      "Curtailment:\n"
     ]
    },
    {
     "data": {
      "text/plain": [
       "North    0\n",
       "South    0\n",
       "East     0\n",
       "Name: 2, dtype: int64"
      ]
     },
     "metadata": {},
     "output_type": "display_data"
    }
   ],
   "source": [
    "hour = 2\n",
    "print(\"Generation:\")\n",
    "display(gen_schedule.loc[hour])\n",
    "print(\"\\nRegional Flows:\")\n",
    "display(region_flows.loc[hour])\n",
    "print(\"\\nCurtailment:\")\n",
    "display(curtailment.loc[hour])"
   ]
  },
  {
   "cell_type": "code",
   "execution_count": null,
   "id": "2c82fb7f-6552-4219-a7b2-f6b2a1a5eb93",
   "metadata": {},
   "outputs": [],
   "source": []
  }
 ],
 "metadata": {
  "kernelspec": {
   "display_name": "Python 3 (ipykernel)",
   "language": "python",
   "name": "python3"
  },
  "language_info": {
   "codemirror_mode": {
    "name": "ipython",
    "version": 3
   },
   "file_extension": ".py",
   "mimetype": "text/x-python",
   "name": "python",
   "nbconvert_exporter": "python",
   "pygments_lexer": "ipython3",
   "version": "3.13.3"
  }
 },
 "nbformat": 4,
 "nbformat_minor": 5
}
